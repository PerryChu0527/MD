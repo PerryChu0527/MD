{
 "cells": [
  {
   "cell_type": "code",
   "execution_count": 19,
   "metadata": {},
   "outputs": [],
   "source": [
    "import numpy as np \n",
    "import pandas as pd\n",
    "import matplotlib.pyplot as plt "
   ]
  },
  {
   "cell_type": "markdown",
   "metadata": {},
   "source": [
    "# My first jupyter scripts"
   ]
  },
  {
   "cell_type": "markdown",
   "metadata": {},
   "source": [
    "plotting results of the dna decamer energies"
   ]
  },
  {
   "cell_type": "code",
   "execution_count": 7,
   "metadata": {},
   "outputs": [],
   "source": [
    "df = pd.read_csv('summary.EPTOT',delim_whitespace=True, header=None)"
   ]
  },
  {
   "cell_type": "code",
   "execution_count": 13,
   "metadata": {},
   "outputs": [],
   "source": [
    "x = df.iloc[:, 0]\n",
    "y = df.iloc[:, 1]"
   ]
  },
  {
   "cell_type": "code",
   "execution_count": 14,
   "metadata": {},
   "outputs": [
    {
     "data": {
      "text/plain": [
       "(0         0.0\n",
       " 1         0.1\n",
       " 2         0.2\n",
       " 3         0.3\n",
       " 4         0.4\n",
       " 5         0.5\n",
       " 6         0.6\n",
       " 7         0.7\n",
       " 8         0.8\n",
       " 9         0.9\n",
       " 10        1.0\n",
       " 11        1.1\n",
       " 12        1.2\n",
       " 13        1.3\n",
       " 14        1.4\n",
       " 15        1.5\n",
       " 16        1.6\n",
       " 17        1.7\n",
       " 18        1.8\n",
       " 19        1.9\n",
       " 20        2.0\n",
       " 21        2.1\n",
       " 22        2.2\n",
       " 23        2.3\n",
       " 24        2.4\n",
       " 25        2.5\n",
       " 26        2.6\n",
       " 27        2.7\n",
       " 28        2.8\n",
       " 29        2.9\n",
       "         ...  \n",
       " 971      97.1\n",
       " 972      97.2\n",
       " 973      97.3\n",
       " 974      97.4\n",
       " 975      97.5\n",
       " 976      97.6\n",
       " 977      97.7\n",
       " 978      97.8\n",
       " 979      97.9\n",
       " 980      98.0\n",
       " 981      98.1\n",
       " 982      98.2\n",
       " 983      98.3\n",
       " 984      98.4\n",
       " 985      98.5\n",
       " 986      98.6\n",
       " 987      98.7\n",
       " 988      98.8\n",
       " 989      98.9\n",
       " 990      99.0\n",
       " 991      99.1\n",
       " 992      99.2\n",
       " 993      99.3\n",
       " 994      99.4\n",
       " 995      99.5\n",
       " 996      99.6\n",
       " 997      99.7\n",
       " 998      99.8\n",
       " 999      99.9\n",
       " 1000    100.0\n",
       " Name: 0, Length: 1001, dtype: float64, 0      -5329.9741\n",
       " 1      -4934.0712\n",
       " 2      -4906.2617\n",
       " 3      -4895.7410\n",
       " 4      -4889.6706\n",
       " 5      -4862.2528\n",
       " 6      -4846.5342\n",
       " 7      -4836.2720\n",
       " 8      -4811.0112\n",
       " 9      -4817.2021\n",
       " 10     -4824.8917\n",
       " 11     -4802.4624\n",
       " 12     -4798.7499\n",
       " 13     -4765.1186\n",
       " 14     -4785.9647\n",
       " 15     -4783.6419\n",
       " 16     -4777.5111\n",
       " 17     -4767.5025\n",
       " 18     -4757.8995\n",
       " 19     -4708.8428\n",
       " 20     -4745.5022\n",
       " 21     -4741.7215\n",
       " 22     -4742.7445\n",
       " 23     -4726.5032\n",
       " 24     -4727.6499\n",
       " 25     -4741.4751\n",
       " 26     -4682.2673\n",
       " 27     -4737.8410\n",
       " 28     -4726.6519\n",
       " 29     -4696.0058\n",
       "           ...    \n",
       " 971    -4694.0894\n",
       " 972    -4674.2430\n",
       " 973    -4670.7529\n",
       " 974    -4700.3203\n",
       " 975    -4687.9909\n",
       " 976    -4675.1860\n",
       " 977    -4697.2390\n",
       " 978    -4651.0791\n",
       " 979    -4638.0586\n",
       " 980    -4633.1232\n",
       " 981    -4669.6419\n",
       " 982    -4688.4832\n",
       " 983    -4688.6956\n",
       " 984    -4673.2023\n",
       " 985    -4658.5264\n",
       " 986    -4675.1580\n",
       " 987    -4700.0456\n",
       " 988    -4676.1816\n",
       " 989    -4680.4962\n",
       " 990    -4676.8413\n",
       " 991    -4679.5814\n",
       " 992    -4667.2373\n",
       " 993    -4690.6008\n",
       " 994    -4700.6707\n",
       " 995    -4684.2746\n",
       " 996    -4686.6972\n",
       " 997    -4678.1316\n",
       " 998    -4677.1135\n",
       " 999    -4702.3331\n",
       " 1000   -4686.5310\n",
       " Name: 1, Length: 1001, dtype: float64)"
      ]
     },
     "execution_count": 14,
     "metadata": {},
     "output_type": "execute_result"
    }
   ],
   "source": [
    "x, y"
   ]
  },
  {
   "cell_type": "code",
   "execution_count": 15,
   "metadata": {},
   "outputs": [
    {
     "ename": "KeyError",
     "evalue": "'[0.5, 1.5, 2.0, 2.5, 5.0, 6.0, 3.0, 3.5, 4.0, 5.1, 6.1, 7.0, 8.0, 9.0, 10.0, 11.0, 13.0, 14.0, 15.0, 4.5, 16.0, 18.0, 19.0, 20.0, 5.5, 21.0, 23.0, 24.0, 25.0, 6.5, 26.0, 28.0, 29.0, 30.0, 7.5, 28.1, 29.1, 30.1, 31.0, 8.5, 33.0, 34.0, 35.0, 36.0, 9.5, 38.0, 39.0, 40.0, 41.0, 10.5, 43.0, 44.0, 45.0, 46.0, 11.5, 48.0, 49.0, 50.0, 51.0, 12.0, 12.5, 54.0, 55.0, 56.0, 13.5, 58.0, 59.0, 60.0, 61.0, 14.5, 63.0, 64.0, 65.0, 66.0, 15.5, 68.0, 69.0, 70.0, 71.0, 16.5, 73.0, 74.0, 75.0, 76.0, 17.0, 17.5, 79.0, 80.0, 81.0, 18.5, 82.5, 84.0, 85.0, 86.0, 19.5, 88.0, 89.0, 90.0, 91.0, 20.5, 93.0, 94.0, 95.0, 96.0, 21.5, 98.0, 99.0, 100.0, 22.0, 22.5, 23.5, 86.6, 24.5, 62.8, 25.5, 26.5, 27.0, 27.5, 28.5, 87.5, 29.5, 63.8, 30.5, 31.5, 32.0, 32.5, 33.5, 88.5, 34.5, 64.8, 35.5, 36.5, 37.0, 37.5, 38.5, 39.5, 65.8, 40.5, 41.5, 42.0, 42.5, 83.5, 43.5, 44.5, 66.8, 45.5, 46.5, 47.0, 47.5, 89.9, 48.5, 87.6, 49.5, 67.8, 50.5, 51.5, 52.0, 52.5, 53.0, 53.5, 54.5, 68.8, 55.5, 56.5, 57.0, 57.5, 58.5, 59.5, 69.8, 60.5, 61.5, 62.0, 62.5, 63.5, 64.1, 64.4, 64.5, 64.6, 64.9, 65.1, 65.4, 65.5, 65.6, 65.9, 66.1, 66.4, 66.5, 66.6, 66.9, 67.0, 67.1, 67.4, 67.5, 67.6, 67.9, 68.1, 68.4, 68.5, 68.6, 68.9, 69.1, 69.4, 69.5, 69.6, 69.9, 70.1, 70.4, 70.5, 70.6, 70.9, 71.1, 71.4, 71.5, 71.6, 71.9, 72.0, 72.1, 72.4, 72.5, 72.6, 72.9, 73.1, 73.4, 73.5, 73.6, 73.9, 74.1, 72.8, 74.4, 74.5, 74.6, 74.9, 75.1, 75.4, 75.5, 0.3, 75.6, 75.9, 76.1, 76.4, 76.5, 76.6, 76.9, 77.0, 77.1, 77.4, 77.5, 77.6, 77.9, 78.0, 78.1, 78.4, 73.8, 70.8, 79.1, 79.4, 4.1, 4.6, 79.5, 80.1, 80.4, 5.6, 80.5, 80.6, 81.1, 81.4, 6.6, 81.5, 81.6, 82.0, 82.1, 7.1, 7.6, 82.4, 83.0, 83.1, 8.1, 8.6, 74.8, 84.1, 84.4, 9.1, 9.6, 84.5, 85.1, 85.4, 10.1, 10.6, 85.5, 86.1, 86.4, 11.1, 11.6, 86.5, 87.0, 87.1, 12.1, 12.6, 87.4, 88.1, 88.4, 13.1, 13.6, 75.8, 89.1, 89.4, 14.1, 14.6, 89.5, 90.1, 90.4, 15.1, 15.6, 90.5, 91.1, 91.4, 91.5, 91.6, 91.9, 92.0, 92.1, 92.4, 92.5, 92.6, 93.1, 93.4, 93.5, 76.8, 93.6, 94.1, 94.4, 94.5, 94.6, 94.9, 95.1, 95.4, 95.5, 95.6, 95.9, 96.1, 96.4, 96.5, 96.6, 89.6, 96.9, 97.0, 97.1, 97.4, 97.5, 97.6, 98.1, 98.4, 77.8, 98.5, 98.6, 99.1, 99.4, 99.5, 99.6, 99.9, 0.8, 1.3, 1.8, 78.8, 71.8, 98.9, 79.8, 80.8, 16.1, 16.6, 17.1, 17.6, 18.1, 18.6, 88.6, 19.1, 19.6, 20.1, 20.6, 90.6, 21.1, 21.6, 22.1, 22.6, 23.1, 23.6, 24.1, 24.6, 25.1, 25.6, 26.1, 26.6, 27.1, 27.6, 28.6, 29.6, 30.6, 31.1, 31.6, 32.1, 32.6, 33.1, 33.6, 34.1, 34.6, 35.1, 35.6, 36.1, 36.6, 37.1, 37.6, 38.1, 38.6, 39.1, 39.6, 40.1, 40.6, 41.1, 41.6, 42.1, 42.6, 43.1, 43.6, 44.1, 44.6, 45.1, 45.6, 46.1, 46.6, 47.1, 47.6, 78.9, 48.1, 48.6, 49.1, 49.6, 50.1, 50.6, 0.6, 51.1, 51.6, 52.1, 52.6, 79.9, 53.1, 53.6, 54.1, 54.6, 55.1, 55.6, 56.1, 56.6, 57.1, 57.6, 80.9, 58.1, 58.6, 8.2, 8.7, 59.1, 59.6, 9.2, 9.7, 60.1, 60.6, 10.2, 10.7, 61.1, 61.6, 11.2, 11.7, 62.1, 62.6, 81.9, 12.2, 12.7, 63.1, 0.1, 63.6, 13.2, 13.7, 14.2, 14.7, 2.2, 2.7, 15.2, 15.7, 3.2, 3.7, 16.2, 16.7, 82.9, 4.2, 4.7, 17.2, 17.7, 5.2, 5.7, 18.2, 18.7, 6.2, 6.7, 19.2, 19.7, 7.2, 7.7, 20.2, 20.7, 21.2, 21.7, 83.4, 83.9, 22.2, 22.7, 23.2, 23.7, 24.2, 24.7, 25.2, 25.7, 26.2, 26.7, 84.9, 27.2, 27.7, 28.2, 28.7, 29.2, 29.7, 30.2, 30.7, 31.2, 31.7, 85.9, 86.9, 87.9, 88.9, 1.1, 1.4, 1.9, 2.4, 2.9, 3.4, 3.9, 1.6, 2.1, 2.6, 3.1, 3.6, 90.9, 92.9, 93.9, 78.6, 79.6, 32.2, 32.3, 32.7, 32.8, 33.2, 33.3, 33.7, 33.8, 34.2, 34.3, 34.7, 34.8, 35.2, 35.3, 35.7, 35.8, 36.2, 36.3, 36.7, 36.8, 37.2, 37.3, 37.7, 37.8, 38.2, 38.3, 38.7, 38.8, 39.2, 39.3, 39.7, 39.8, 40.2, 2.3, 2.8, 40.3, 40.7, 40.8, 3.3, 3.8, 41.2, 41.3, 41.7, 4.3, 4.8, 41.8, 42.2, 42.3, 5.3, 5.8, 42.7, 42.8, 43.2, 6.3, 6.8, 43.3, 43.7, 44.2, 7.3, 7.8, 44.3, 44.7, 45.2, 45.3, 45.7, 45.8, 46.2, 46.3, 46.7, 46.8, 47.2, 47.3, 47.7, 47.8, 48.2, 48.3, 48.7, 48.8, 49.2, 49.3, 49.7, 49.8, 50.2, 50.3, 50.7, 50.8, 0.4, 0.9, 51.2, 51.3, 51.7, 51.8, 52.2, 52.3, 52.7, 52.8, 84.6, 53.2, 53.3, 53.7, 53.8, 54.2, 54.3, 54.7, 54.8, 55.2, 55.3, 55.7, 55.8, 56.2, 56.3, 56.7, 56.8, 85.6, 57.2, 57.3, 57.7, 57.8, 58.2, 58.3, 58.7, 58.8, 8.3, 8.8, 59.2, 59.3, 59.7, 9.3, 9.8, 59.8, 60.2, 60.3, 10.3, 10.8, 60.7, 60.8, 61.2, 11.3, 11.8, 61.3, 61.7, 61.8, 12.3, 12.8, 62.2, 62.3, 62.7, 13.3, 13.8, 63.2, 63.3, 63.7, 14.3, 14.8, 64.2, 64.3, 64.7, 15.3, 15.8, 65.2, 65.3, 65.7, 16.3, 16.8, 66.2, 66.3, 66.7, 17.3, 17.8, 67.2, 67.3, 67.7, 18.8, 18.3, 68.2, 68.3, 68.7, 19.3, 19.8, 69.2, 69.3, 69.7, 20.3, 20.8, 70.2, 70.3, 70.7, 21.3, 21.8, 71.2, 71.3, 71.7, 22.3, 22.8, 72.2, 72.3, 72.7, 23.3, 23.8, 73.2, 73.3, 73.7, 24.3, 24.8, 74.2, 74.3, 74.7, 25.3, 25.8, 75.2, 75.3, 75.7, 26.3, 26.8, 76.2, 76.3, 76.7, 27.3, 27.8, 77.2, 77.3, 77.7, 28.3, 28.8, 78.2, 78.3, 78.7, 29.3, 29.8, 79.2, 79.3, 79.7, 30.3, 30.8, 80.2, 80.3, 80.7, 31.3, 31.8, 81.2, 81.3, 81.7, 81.8, 82.2, 82.3, 82.7, 82.8, 83.2, 83.3, 83.7, 83.8, 84.2, 84.3, 84.7, 84.8, 85.2, 85.3, 85.7, 85.8, 86.2, 86.3, 86.7, 86.8, 87.2, 87.3, 87.7, 87.8, 88.2, 88.3, 88.7, 88.8, 89.2, 89.3, 89.7, 89.8, 90.2, 90.3, 90.7, 90.8, 91.2, 91.3, 91.7, 91.8, 92.2, 92.3, 92.7, 92.8, 93.2, 93.3, 93.7, 93.8, 94.2, 94.3, 94.7, 94.8, 95.2, 95.3, 95.7, 95.8, 96.2, 96.3, 96.7, 96.8, 97.2, 97.3, 97.7, 97.8, 98.2, 98.3, 98.7, 98.8, 99.2, 99.3, 99.7, 99.8, 0.7, 1.2, 1.7, 16.4, 16.9, 17.4, 17.9, 18.4, 18.9, 19.4, 19.9, 20.4, 20.9, 21.4, 21.9, 22.4, 22.9, 23.4, 23.9, 24.4, 24.9, 25.4, 25.9, 0.2, 82.6, 26.4, 26.9, 27.4, 27.9, 28.4, 28.9, 29.4, 29.9, 4.4, 4.9, 30.4, 30.9, 5.4, 5.9, 31.4, 31.9, 43.8, 6.4, 6.9, 32.4, 32.9, 7.4, 7.9, 33.4, 33.9, 8.4, 8.9, 34.4, 34.9, 9.4, 9.9, 35.4, 35.9, 10.4, 10.9, 36.4, 36.9, 11.4, 11.9, 44.8, 37.4, 37.9, 12.4, 12.9, 38.4, 38.9, 13.4, 13.9, 39.4, 39.9, 14.4, 14.9, 40.4, 40.9, 15.4, 15.9, 41.4, 41.9, 42.4, 42.9, 43.4, 43.9, 44.4, 44.9, 45.4, 45.9, 46.4, 46.9, 47.4, 47.9, 48.4, 48.9, 49.4, 49.9, 50.4, 50.9, 83.6, 51.4, 51.9, 52.4, 52.9, 53.4, 53.9, 54.4, 54.9, 55.4, 55.9, 56.4, 56.9, 57.4, 57.9, 97.9, 58.4, 58.9, 59.4, 59.9, 60.4, 60.9, 61.4, 61.9, 62.4, 62.9, 63.4, 63.9, 78.5] not in index'",
     "output_type": "error",
     "traceback": [
      "\u001b[0;31m---------------------------------------------------------------------------\u001b[0m",
      "\u001b[0;31mKeyError\u001b[0m                                  Traceback (most recent call last)",
      "\u001b[0;32m<ipython-input-15-a8a78592de6d>\u001b[0m in \u001b[0;36m<module>\u001b[0;34m\u001b[0m\n\u001b[0;32m----> 1\u001b[0;31m \u001b[0mdf\u001b[0m\u001b[0;34m.\u001b[0m\u001b[0mplot\u001b[0m\u001b[0;34m(\u001b[0m\u001b[0mx\u001b[0m\u001b[0;34m,\u001b[0m \u001b[0my\u001b[0m\u001b[0;34m)\u001b[0m\u001b[0;34m\u001b[0m\u001b[0;34m\u001b[0m\u001b[0m\n\u001b[0m",
      "\u001b[0;32m/data/lab/software/anaconda3/lib/python3.7/site-packages/pandas/plotting/_core.py\u001b[0m in \u001b[0;36m__call__\u001b[0;34m(self, x, y, kind, ax, subplots, sharex, sharey, layout, figsize, use_index, title, grid, legend, style, logx, logy, loglog, xticks, yticks, xlim, ylim, rot, fontsize, colormap, table, yerr, xerr, secondary_y, sort_columns, **kwds)\u001b[0m\n\u001b[1;32m   2940\u001b[0m                           \u001b[0mfontsize\u001b[0m\u001b[0;34m=\u001b[0m\u001b[0mfontsize\u001b[0m\u001b[0;34m,\u001b[0m \u001b[0mcolormap\u001b[0m\u001b[0;34m=\u001b[0m\u001b[0mcolormap\u001b[0m\u001b[0;34m,\u001b[0m \u001b[0mtable\u001b[0m\u001b[0;34m=\u001b[0m\u001b[0mtable\u001b[0m\u001b[0;34m,\u001b[0m\u001b[0;34m\u001b[0m\u001b[0;34m\u001b[0m\u001b[0m\n\u001b[1;32m   2941\u001b[0m                           \u001b[0myerr\u001b[0m\u001b[0;34m=\u001b[0m\u001b[0myerr\u001b[0m\u001b[0;34m,\u001b[0m \u001b[0mxerr\u001b[0m\u001b[0;34m=\u001b[0m\u001b[0mxerr\u001b[0m\u001b[0;34m,\u001b[0m \u001b[0msecondary_y\u001b[0m\u001b[0;34m=\u001b[0m\u001b[0msecondary_y\u001b[0m\u001b[0;34m,\u001b[0m\u001b[0;34m\u001b[0m\u001b[0;34m\u001b[0m\u001b[0m\n\u001b[0;32m-> 2942\u001b[0;31m                           sort_columns=sort_columns, **kwds)\n\u001b[0m\u001b[1;32m   2943\u001b[0m     \u001b[0m__call__\u001b[0m\u001b[0;34m.\u001b[0m\u001b[0m__doc__\u001b[0m \u001b[0;34m=\u001b[0m \u001b[0mplot_frame\u001b[0m\u001b[0;34m.\u001b[0m\u001b[0m__doc__\u001b[0m\u001b[0;34m\u001b[0m\u001b[0;34m\u001b[0m\u001b[0m\n\u001b[1;32m   2944\u001b[0m \u001b[0;34m\u001b[0m\u001b[0m\n",
      "\u001b[0;32m/data/lab/software/anaconda3/lib/python3.7/site-packages/pandas/plotting/_core.py\u001b[0m in \u001b[0;36mplot_frame\u001b[0;34m(data, x, y, kind, ax, subplots, sharex, sharey, layout, figsize, use_index, title, grid, legend, style, logx, logy, loglog, xticks, yticks, xlim, ylim, rot, fontsize, colormap, table, yerr, xerr, secondary_y, sort_columns, **kwds)\u001b[0m\n\u001b[1;32m   1971\u001b[0m                  \u001b[0myerr\u001b[0m\u001b[0;34m=\u001b[0m\u001b[0myerr\u001b[0m\u001b[0;34m,\u001b[0m \u001b[0mxerr\u001b[0m\u001b[0;34m=\u001b[0m\u001b[0mxerr\u001b[0m\u001b[0;34m,\u001b[0m\u001b[0;34m\u001b[0m\u001b[0;34m\u001b[0m\u001b[0m\n\u001b[1;32m   1972\u001b[0m                  \u001b[0msecondary_y\u001b[0m\u001b[0;34m=\u001b[0m\u001b[0msecondary_y\u001b[0m\u001b[0;34m,\u001b[0m \u001b[0msort_columns\u001b[0m\u001b[0;34m=\u001b[0m\u001b[0msort_columns\u001b[0m\u001b[0;34m,\u001b[0m\u001b[0;34m\u001b[0m\u001b[0;34m\u001b[0m\u001b[0m\n\u001b[0;32m-> 1973\u001b[0;31m                  **kwds)\n\u001b[0m\u001b[1;32m   1974\u001b[0m \u001b[0;34m\u001b[0m\u001b[0m\n\u001b[1;32m   1975\u001b[0m \u001b[0;34m\u001b[0m\u001b[0m\n",
      "\u001b[0;32m/data/lab/software/anaconda3/lib/python3.7/site-packages/pandas/plotting/_core.py\u001b[0m in \u001b[0;36m_plot\u001b[0;34m(data, x, y, subplots, ax, kind, **kwds)\u001b[0m\n\u001b[1;32m   1761\u001b[0m                 \u001b[0;32mif\u001b[0m \u001b[0mis_integer\u001b[0m\u001b[0;34m(\u001b[0m\u001b[0mx\u001b[0m\u001b[0;34m)\u001b[0m \u001b[0;32mand\u001b[0m \u001b[0;32mnot\u001b[0m \u001b[0mdata\u001b[0m\u001b[0;34m.\u001b[0m\u001b[0mcolumns\u001b[0m\u001b[0;34m.\u001b[0m\u001b[0mholds_integer\u001b[0m\u001b[0;34m(\u001b[0m\u001b[0;34m)\u001b[0m\u001b[0;34m:\u001b[0m\u001b[0;34m\u001b[0m\u001b[0;34m\u001b[0m\u001b[0m\n\u001b[1;32m   1762\u001b[0m                     \u001b[0mx\u001b[0m \u001b[0;34m=\u001b[0m \u001b[0mdata_cols\u001b[0m\u001b[0;34m[\u001b[0m\u001b[0mx\u001b[0m\u001b[0;34m]\u001b[0m\u001b[0;34m\u001b[0m\u001b[0;34m\u001b[0m\u001b[0m\n\u001b[0;32m-> 1763\u001b[0;31m                 \u001b[0;32melif\u001b[0m \u001b[0;32mnot\u001b[0m \u001b[0misinstance\u001b[0m\u001b[0;34m(\u001b[0m\u001b[0mdata\u001b[0m\u001b[0;34m[\u001b[0m\u001b[0mx\u001b[0m\u001b[0;34m]\u001b[0m\u001b[0;34m,\u001b[0m \u001b[0mABCSeries\u001b[0m\u001b[0;34m)\u001b[0m\u001b[0;34m:\u001b[0m\u001b[0;34m\u001b[0m\u001b[0;34m\u001b[0m\u001b[0m\n\u001b[0m\u001b[1;32m   1764\u001b[0m                     \u001b[0;32mraise\u001b[0m \u001b[0mValueError\u001b[0m\u001b[0;34m(\u001b[0m\u001b[0;34m\"x must be a label or position\"\u001b[0m\u001b[0;34m)\u001b[0m\u001b[0;34m\u001b[0m\u001b[0;34m\u001b[0m\u001b[0m\n\u001b[1;32m   1765\u001b[0m                 \u001b[0mdata\u001b[0m \u001b[0;34m=\u001b[0m \u001b[0mdata\u001b[0m\u001b[0;34m.\u001b[0m\u001b[0mset_index\u001b[0m\u001b[0;34m(\u001b[0m\u001b[0mx\u001b[0m\u001b[0;34m)\u001b[0m\u001b[0;34m\u001b[0m\u001b[0;34m\u001b[0m\u001b[0m\n",
      "\u001b[0;32m/data/lab/software/anaconda3/lib/python3.7/site-packages/pandas/core/frame.py\u001b[0m in \u001b[0;36m__getitem__\u001b[0;34m(self, key)\u001b[0m\n\u001b[1;32m   2932\u001b[0m                 \u001b[0mkey\u001b[0m \u001b[0;34m=\u001b[0m \u001b[0mlist\u001b[0m\u001b[0;34m(\u001b[0m\u001b[0mkey\u001b[0m\u001b[0;34m)\u001b[0m\u001b[0;34m\u001b[0m\u001b[0;34m\u001b[0m\u001b[0m\n\u001b[1;32m   2933\u001b[0m             indexer = self.loc._convert_to_indexer(key, axis=1,\n\u001b[0;32m-> 2934\u001b[0;31m                                                    raise_missing=True)\n\u001b[0m\u001b[1;32m   2935\u001b[0m \u001b[0;34m\u001b[0m\u001b[0m\n\u001b[1;32m   2936\u001b[0m         \u001b[0;31m# take() does not accept boolean indexers\u001b[0m\u001b[0;34m\u001b[0m\u001b[0;34m\u001b[0m\u001b[0;34m\u001b[0m\u001b[0m\n",
      "\u001b[0;32m/data/lab/software/anaconda3/lib/python3.7/site-packages/pandas/core/indexing.py\u001b[0m in \u001b[0;36m_convert_to_indexer\u001b[0;34m(self, obj, axis, is_setter, raise_missing)\u001b[0m\n\u001b[1;32m   1352\u001b[0m                 kwargs = {'raise_missing': True if is_setter else\n\u001b[1;32m   1353\u001b[0m                           raise_missing}\n\u001b[0;32m-> 1354\u001b[0;31m                 \u001b[0;32mreturn\u001b[0m \u001b[0mself\u001b[0m\u001b[0;34m.\u001b[0m\u001b[0m_get_listlike_indexer\u001b[0m\u001b[0;34m(\u001b[0m\u001b[0mobj\u001b[0m\u001b[0;34m,\u001b[0m \u001b[0maxis\u001b[0m\u001b[0;34m,\u001b[0m \u001b[0;34m**\u001b[0m\u001b[0mkwargs\u001b[0m\u001b[0;34m)\u001b[0m\u001b[0;34m[\u001b[0m\u001b[0;36m1\u001b[0m\u001b[0;34m]\u001b[0m\u001b[0;34m\u001b[0m\u001b[0;34m\u001b[0m\u001b[0m\n\u001b[0m\u001b[1;32m   1355\u001b[0m         \u001b[0;32melse\u001b[0m\u001b[0;34m:\u001b[0m\u001b[0;34m\u001b[0m\u001b[0;34m\u001b[0m\u001b[0m\n\u001b[1;32m   1356\u001b[0m             \u001b[0;32mtry\u001b[0m\u001b[0;34m:\u001b[0m\u001b[0;34m\u001b[0m\u001b[0;34m\u001b[0m\u001b[0m\n",
      "\u001b[0;32m/data/lab/software/anaconda3/lib/python3.7/site-packages/pandas/core/indexing.py\u001b[0m in \u001b[0;36m_get_listlike_indexer\u001b[0;34m(self, key, axis, raise_missing)\u001b[0m\n\u001b[1;32m   1159\u001b[0m         self._validate_read_indexer(keyarr, indexer,\n\u001b[1;32m   1160\u001b[0m                                     \u001b[0mo\u001b[0m\u001b[0;34m.\u001b[0m\u001b[0m_get_axis_number\u001b[0m\u001b[0;34m(\u001b[0m\u001b[0maxis\u001b[0m\u001b[0;34m)\u001b[0m\u001b[0;34m,\u001b[0m\u001b[0;34m\u001b[0m\u001b[0;34m\u001b[0m\u001b[0m\n\u001b[0;32m-> 1161\u001b[0;31m                                     raise_missing=raise_missing)\n\u001b[0m\u001b[1;32m   1162\u001b[0m         \u001b[0;32mreturn\u001b[0m \u001b[0mkeyarr\u001b[0m\u001b[0;34m,\u001b[0m \u001b[0mindexer\u001b[0m\u001b[0;34m\u001b[0m\u001b[0;34m\u001b[0m\u001b[0m\n\u001b[1;32m   1163\u001b[0m \u001b[0;34m\u001b[0m\u001b[0m\n",
      "\u001b[0;32m/data/lab/software/anaconda3/lib/python3.7/site-packages/pandas/core/indexing.py\u001b[0m in \u001b[0;36m_validate_read_indexer\u001b[0;34m(self, key, indexer, axis, raise_missing)\u001b[0m\n\u001b[1;32m   1250\u001b[0m             \u001b[0;32mif\u001b[0m \u001b[0;32mnot\u001b[0m\u001b[0;34m(\u001b[0m\u001b[0mself\u001b[0m\u001b[0;34m.\u001b[0m\u001b[0mname\u001b[0m \u001b[0;34m==\u001b[0m \u001b[0;34m'loc'\u001b[0m \u001b[0;32mand\u001b[0m \u001b[0;32mnot\u001b[0m \u001b[0mraise_missing\u001b[0m\u001b[0;34m)\u001b[0m\u001b[0;34m:\u001b[0m\u001b[0;34m\u001b[0m\u001b[0;34m\u001b[0m\u001b[0m\n\u001b[1;32m   1251\u001b[0m                 \u001b[0mnot_found\u001b[0m \u001b[0;34m=\u001b[0m \u001b[0mlist\u001b[0m\u001b[0;34m(\u001b[0m\u001b[0mset\u001b[0m\u001b[0;34m(\u001b[0m\u001b[0mkey\u001b[0m\u001b[0;34m)\u001b[0m \u001b[0;34m-\u001b[0m \u001b[0mset\u001b[0m\u001b[0;34m(\u001b[0m\u001b[0max\u001b[0m\u001b[0;34m)\u001b[0m\u001b[0;34m)\u001b[0m\u001b[0;34m\u001b[0m\u001b[0;34m\u001b[0m\u001b[0m\n\u001b[0;32m-> 1252\u001b[0;31m                 \u001b[0;32mraise\u001b[0m \u001b[0mKeyError\u001b[0m\u001b[0;34m(\u001b[0m\u001b[0;34m\"{} not in index\"\u001b[0m\u001b[0;34m.\u001b[0m\u001b[0mformat\u001b[0m\u001b[0;34m(\u001b[0m\u001b[0mnot_found\u001b[0m\u001b[0;34m)\u001b[0m\u001b[0;34m)\u001b[0m\u001b[0;34m\u001b[0m\u001b[0;34m\u001b[0m\u001b[0m\n\u001b[0m\u001b[1;32m   1253\u001b[0m \u001b[0;34m\u001b[0m\u001b[0m\n\u001b[1;32m   1254\u001b[0m             \u001b[0;31m# we skip the warning on Categorical/Interval\u001b[0m\u001b[0;34m\u001b[0m\u001b[0;34m\u001b[0m\u001b[0;34m\u001b[0m\u001b[0m\n",
      "\u001b[0;31mKeyError\u001b[0m: '[0.5, 1.5, 2.0, 2.5, 5.0, 6.0, 3.0, 3.5, 4.0, 5.1, 6.1, 7.0, 8.0, 9.0, 10.0, 11.0, 13.0, 14.0, 15.0, 4.5, 16.0, 18.0, 19.0, 20.0, 5.5, 21.0, 23.0, 24.0, 25.0, 6.5, 26.0, 28.0, 29.0, 30.0, 7.5, 28.1, 29.1, 30.1, 31.0, 8.5, 33.0, 34.0, 35.0, 36.0, 9.5, 38.0, 39.0, 40.0, 41.0, 10.5, 43.0, 44.0, 45.0, 46.0, 11.5, 48.0, 49.0, 50.0, 51.0, 12.0, 12.5, 54.0, 55.0, 56.0, 13.5, 58.0, 59.0, 60.0, 61.0, 14.5, 63.0, 64.0, 65.0, 66.0, 15.5, 68.0, 69.0, 70.0, 71.0, 16.5, 73.0, 74.0, 75.0, 76.0, 17.0, 17.5, 79.0, 80.0, 81.0, 18.5, 82.5, 84.0, 85.0, 86.0, 19.5, 88.0, 89.0, 90.0, 91.0, 20.5, 93.0, 94.0, 95.0, 96.0, 21.5, 98.0, 99.0, 100.0, 22.0, 22.5, 23.5, 86.6, 24.5, 62.8, 25.5, 26.5, 27.0, 27.5, 28.5, 87.5, 29.5, 63.8, 30.5, 31.5, 32.0, 32.5, 33.5, 88.5, 34.5, 64.8, 35.5, 36.5, 37.0, 37.5, 38.5, 39.5, 65.8, 40.5, 41.5, 42.0, 42.5, 83.5, 43.5, 44.5, 66.8, 45.5, 46.5, 47.0, 47.5, 89.9, 48.5, 87.6, 49.5, 67.8, 50.5, 51.5, 52.0, 52.5, 53.0, 53.5, 54.5, 68.8, 55.5, 56.5, 57.0, 57.5, 58.5, 59.5, 69.8, 60.5, 61.5, 62.0, 62.5, 63.5, 64.1, 64.4, 64.5, 64.6, 64.9, 65.1, 65.4, 65.5, 65.6, 65.9, 66.1, 66.4, 66.5, 66.6, 66.9, 67.0, 67.1, 67.4, 67.5, 67.6, 67.9, 68.1, 68.4, 68.5, 68.6, 68.9, 69.1, 69.4, 69.5, 69.6, 69.9, 70.1, 70.4, 70.5, 70.6, 70.9, 71.1, 71.4, 71.5, 71.6, 71.9, 72.0, 72.1, 72.4, 72.5, 72.6, 72.9, 73.1, 73.4, 73.5, 73.6, 73.9, 74.1, 72.8, 74.4, 74.5, 74.6, 74.9, 75.1, 75.4, 75.5, 0.3, 75.6, 75.9, 76.1, 76.4, 76.5, 76.6, 76.9, 77.0, 77.1, 77.4, 77.5, 77.6, 77.9, 78.0, 78.1, 78.4, 73.8, 70.8, 79.1, 79.4, 4.1, 4.6, 79.5, 80.1, 80.4, 5.6, 80.5, 80.6, 81.1, 81.4, 6.6, 81.5, 81.6, 82.0, 82.1, 7.1, 7.6, 82.4, 83.0, 83.1, 8.1, 8.6, 74.8, 84.1, 84.4, 9.1, 9.6, 84.5, 85.1, 85.4, 10.1, 10.6, 85.5, 86.1, 86.4, 11.1, 11.6, 86.5, 87.0, 87.1, 12.1, 12.6, 87.4, 88.1, 88.4, 13.1, 13.6, 75.8, 89.1, 89.4, 14.1, 14.6, 89.5, 90.1, 90.4, 15.1, 15.6, 90.5, 91.1, 91.4, 91.5, 91.6, 91.9, 92.0, 92.1, 92.4, 92.5, 92.6, 93.1, 93.4, 93.5, 76.8, 93.6, 94.1, 94.4, 94.5, 94.6, 94.9, 95.1, 95.4, 95.5, 95.6, 95.9, 96.1, 96.4, 96.5, 96.6, 89.6, 96.9, 97.0, 97.1, 97.4, 97.5, 97.6, 98.1, 98.4, 77.8, 98.5, 98.6, 99.1, 99.4, 99.5, 99.6, 99.9, 0.8, 1.3, 1.8, 78.8, 71.8, 98.9, 79.8, 80.8, 16.1, 16.6, 17.1, 17.6, 18.1, 18.6, 88.6, 19.1, 19.6, 20.1, 20.6, 90.6, 21.1, 21.6, 22.1, 22.6, 23.1, 23.6, 24.1, 24.6, 25.1, 25.6, 26.1, 26.6, 27.1, 27.6, 28.6, 29.6, 30.6, 31.1, 31.6, 32.1, 32.6, 33.1, 33.6, 34.1, 34.6, 35.1, 35.6, 36.1, 36.6, 37.1, 37.6, 38.1, 38.6, 39.1, 39.6, 40.1, 40.6, 41.1, 41.6, 42.1, 42.6, 43.1, 43.6, 44.1, 44.6, 45.1, 45.6, 46.1, 46.6, 47.1, 47.6, 78.9, 48.1, 48.6, 49.1, 49.6, 50.1, 50.6, 0.6, 51.1, 51.6, 52.1, 52.6, 79.9, 53.1, 53.6, 54.1, 54.6, 55.1, 55.6, 56.1, 56.6, 57.1, 57.6, 80.9, 58.1, 58.6, 8.2, 8.7, 59.1, 59.6, 9.2, 9.7, 60.1, 60.6, 10.2, 10.7, 61.1, 61.6, 11.2, 11.7, 62.1, 62.6, 81.9, 12.2, 12.7, 63.1, 0.1, 63.6, 13.2, 13.7, 14.2, 14.7, 2.2, 2.7, 15.2, 15.7, 3.2, 3.7, 16.2, 16.7, 82.9, 4.2, 4.7, 17.2, 17.7, 5.2, 5.7, 18.2, 18.7, 6.2, 6.7, 19.2, 19.7, 7.2, 7.7, 20.2, 20.7, 21.2, 21.7, 83.4, 83.9, 22.2, 22.7, 23.2, 23.7, 24.2, 24.7, 25.2, 25.7, 26.2, 26.7, 84.9, 27.2, 27.7, 28.2, 28.7, 29.2, 29.7, 30.2, 30.7, 31.2, 31.7, 85.9, 86.9, 87.9, 88.9, 1.1, 1.4, 1.9, 2.4, 2.9, 3.4, 3.9, 1.6, 2.1, 2.6, 3.1, 3.6, 90.9, 92.9, 93.9, 78.6, 79.6, 32.2, 32.3, 32.7, 32.8, 33.2, 33.3, 33.7, 33.8, 34.2, 34.3, 34.7, 34.8, 35.2, 35.3, 35.7, 35.8, 36.2, 36.3, 36.7, 36.8, 37.2, 37.3, 37.7, 37.8, 38.2, 38.3, 38.7, 38.8, 39.2, 39.3, 39.7, 39.8, 40.2, 2.3, 2.8, 40.3, 40.7, 40.8, 3.3, 3.8, 41.2, 41.3, 41.7, 4.3, 4.8, 41.8, 42.2, 42.3, 5.3, 5.8, 42.7, 42.8, 43.2, 6.3, 6.8, 43.3, 43.7, 44.2, 7.3, 7.8, 44.3, 44.7, 45.2, 45.3, 45.7, 45.8, 46.2, 46.3, 46.7, 46.8, 47.2, 47.3, 47.7, 47.8, 48.2, 48.3, 48.7, 48.8, 49.2, 49.3, 49.7, 49.8, 50.2, 50.3, 50.7, 50.8, 0.4, 0.9, 51.2, 51.3, 51.7, 51.8, 52.2, 52.3, 52.7, 52.8, 84.6, 53.2, 53.3, 53.7, 53.8, 54.2, 54.3, 54.7, 54.8, 55.2, 55.3, 55.7, 55.8, 56.2, 56.3, 56.7, 56.8, 85.6, 57.2, 57.3, 57.7, 57.8, 58.2, 58.3, 58.7, 58.8, 8.3, 8.8, 59.2, 59.3, 59.7, 9.3, 9.8, 59.8, 60.2, 60.3, 10.3, 10.8, 60.7, 60.8, 61.2, 11.3, 11.8, 61.3, 61.7, 61.8, 12.3, 12.8, 62.2, 62.3, 62.7, 13.3, 13.8, 63.2, 63.3, 63.7, 14.3, 14.8, 64.2, 64.3, 64.7, 15.3, 15.8, 65.2, 65.3, 65.7, 16.3, 16.8, 66.2, 66.3, 66.7, 17.3, 17.8, 67.2, 67.3, 67.7, 18.8, 18.3, 68.2, 68.3, 68.7, 19.3, 19.8, 69.2, 69.3, 69.7, 20.3, 20.8, 70.2, 70.3, 70.7, 21.3, 21.8, 71.2, 71.3, 71.7, 22.3, 22.8, 72.2, 72.3, 72.7, 23.3, 23.8, 73.2, 73.3, 73.7, 24.3, 24.8, 74.2, 74.3, 74.7, 25.3, 25.8, 75.2, 75.3, 75.7, 26.3, 26.8, 76.2, 76.3, 76.7, 27.3, 27.8, 77.2, 77.3, 77.7, 28.3, 28.8, 78.2, 78.3, 78.7, 29.3, 29.8, 79.2, 79.3, 79.7, 30.3, 30.8, 80.2, 80.3, 80.7, 31.3, 31.8, 81.2, 81.3, 81.7, 81.8, 82.2, 82.3, 82.7, 82.8, 83.2, 83.3, 83.7, 83.8, 84.2, 84.3, 84.7, 84.8, 85.2, 85.3, 85.7, 85.8, 86.2, 86.3, 86.7, 86.8, 87.2, 87.3, 87.7, 87.8, 88.2, 88.3, 88.7, 88.8, 89.2, 89.3, 89.7, 89.8, 90.2, 90.3, 90.7, 90.8, 91.2, 91.3, 91.7, 91.8, 92.2, 92.3, 92.7, 92.8, 93.2, 93.3, 93.7, 93.8, 94.2, 94.3, 94.7, 94.8, 95.2, 95.3, 95.7, 95.8, 96.2, 96.3, 96.7, 96.8, 97.2, 97.3, 97.7, 97.8, 98.2, 98.3, 98.7, 98.8, 99.2, 99.3, 99.7, 99.8, 0.7, 1.2, 1.7, 16.4, 16.9, 17.4, 17.9, 18.4, 18.9, 19.4, 19.9, 20.4, 20.9, 21.4, 21.9, 22.4, 22.9, 23.4, 23.9, 24.4, 24.9, 25.4, 25.9, 0.2, 82.6, 26.4, 26.9, 27.4, 27.9, 28.4, 28.9, 29.4, 29.9, 4.4, 4.9, 30.4, 30.9, 5.4, 5.9, 31.4, 31.9, 43.8, 6.4, 6.9, 32.4, 32.9, 7.4, 7.9, 33.4, 33.9, 8.4, 8.9, 34.4, 34.9, 9.4, 9.9, 35.4, 35.9, 10.4, 10.9, 36.4, 36.9, 11.4, 11.9, 44.8, 37.4, 37.9, 12.4, 12.9, 38.4, 38.9, 13.4, 13.9, 39.4, 39.9, 14.4, 14.9, 40.4, 40.9, 15.4, 15.9, 41.4, 41.9, 42.4, 42.9, 43.4, 43.9, 44.4, 44.9, 45.4, 45.9, 46.4, 46.9, 47.4, 47.9, 48.4, 48.9, 49.4, 49.9, 50.4, 50.9, 83.6, 51.4, 51.9, 52.4, 52.9, 53.4, 53.9, 54.4, 54.9, 55.4, 55.9, 56.4, 56.9, 57.4, 57.9, 97.9, 58.4, 58.9, 59.4, 59.9, 60.4, 60.9, 61.4, 61.9, 62.4, 62.9, 63.4, 63.9, 78.5] not in index'"
     ]
    }
   ],
   "source": [
    "df.plot(x, y)"
   ]
  },
  {
   "cell_type": "code",
   "execution_count": 16,
   "metadata": {},
   "outputs": [
    {
     "data": {
      "text/plain": [
       "<matplotlib.axes._subplots.AxesSubplot at 0x7fca1addb1d0>"
      ]
     },
     "execution_count": 16,
     "metadata": {},
     "output_type": "execute_result"
    },
    {
     "data": {
      "image/png": "[encoded data removed]",
      "text/plain": [
       "<Figure size 432x288 with 1 Axes>"
      ]
     },
     "metadata": {
      "needs_background": "light"
     },
     "output_type": "display_data"
    }
   ],
   "source": [
    "df.plot(kind='line') "
   ]
  },
  {
   "cell_type": "code",
   "execution_count": 33,
   "metadata": {},
   "outputs": [
    {
     "data": {
      "image/png": "[encoded data removed]",
      "text/plain": [
       "<Figure size 720x720 with 1 Axes>"
      ]
     },
     "metadata": {
      "needs_background": "light"
     },
     "output_type": "display_data"
    }
   ],
   "source": [
    "fig, ax = plt.subplots(figsize=(10,10))\n",
    "plt.xlabel(\"time (ns)\")\n",
    "plt.ylabel(\"potential energy (kcal/mol)\")\n",
    "\n",
    "df1 = pd.read_csv('summary.EPTOT',delim_whitespace=True, header=None)\n",
    "x = df1.iloc[:, 0]\n",
    "y = df1.iloc[:, 1]\n",
    "ax.plot(x, y, color='red', label='EPTOT')\n",
    "\n",
    "df2 = pd.read_csv('summary.EKTOT',delim_whitespace=True, header=None)\n",
    "x = df2.iloc[:, 0]\n",
    "y = df2.iloc[:, 1]\n",
    "ax.plot(x, y, color='blue', label='EKTOT')\n",
    "\n",
    "df3 = pd.read_csv('summary.ETOT',delim_whitespace=True, header=None)\n",
    "x = df3.iloc[:, 0]\n",
    "y = df3.iloc[:, 1]\n",
    "ax.plot(x, y, color='green', label='ETOT')\n",
    "\n",
    "y = df1.iloc[:, 1] + df2.iloc[:, 1]\n",
    "ax.plot(x, y, color='yellow', label='ETOT')\n",
    "\n",
    "\n",
    "\n",
    "\n",
    "plt.legend()\n",
    "\n",
    "ax.set_xlim(0,100)\n",
    "#ax.set_ylim(-5000, -4600)\n",
    "plt.show()\n",
    "fig.savefig('Eptot.png')"
   ]
  },
  {
   "cell_type": "code",
   "execution_count": 29,
   "metadata": {
    "scrolled": true
   },
   "outputs": [
    {
     "data": {
      "text/plain": [
       "0      -5329.9741\n",
       "1      -4934.0712\n",
       "2      -4906.2617\n",
       "3      -4895.7410\n",
       "4      -4889.6706\n",
       "5      -4862.2528\n",
       "6      -4846.5342\n",
       "7      -4836.2720\n",
       "8      -4811.0112\n",
       "9      -4817.2021\n",
       "10     -4824.8917\n",
       "11     -4802.4624\n",
       "12     -4798.7499\n",
       "13     -4765.1186\n",
       "14     -4785.9647\n",
       "15     -4783.6419\n",
       "16     -4777.5111\n",
       "17     -4767.5025\n",
       "18     -4757.8995\n",
       "19     -4708.8428\n",
       "20     -4745.5022\n",
       "21     -4741.7215\n",
       "22     -4742.7445\n",
       "23     -4726.5032\n",
       "24     -4727.6499\n",
       "25     -4741.4751\n",
       "26     -4682.2673\n",
       "27     -4737.8410\n",
       "28     -4726.6519\n",
       "29     -4696.0058\n",
       "          ...    \n",
       "971    -4694.0894\n",
       "972    -4674.2430\n",
       "973    -4670.7529\n",
       "974    -4700.3203\n",
       "975    -4687.9909\n",
       "976    -4675.1860\n",
       "977    -4697.2390\n",
       "978    -4651.0791\n",
       "979    -4638.0586\n",
       "980    -4633.1232\n",
       "981    -4669.6419\n",
       "982    -4688.4832\n",
       "983    -4688.6956\n",
       "984    -4673.2023\n",
       "985    -4658.5264\n",
       "986    -4675.1580\n",
       "987    -4700.0456\n",
       "988    -4676.1816\n",
       "989    -4680.4962\n",
       "990    -4676.8413\n",
       "991    -4679.5814\n",
       "992    -4667.2373\n",
       "993    -4690.6008\n",
       "994    -4700.6707\n",
       "995    -4684.2746\n",
       "996    -4686.6972\n",
       "997    -4678.1316\n",
       "998    -4677.1135\n",
       "999    -4702.3331\n",
       "1000   -4686.5310\n",
       "Name: 1, Length: 1001, dtype: float64"
      ]
     },
     "execution_count": 29,
     "metadata": {},
     "output_type": "execute_result"
    }
   ],
   "source": [
    "df1 = pd.read_csv('summary.EPTOT',delim_whitespace=True, header=None)\n",
    "x = df1.iloc[:, 0]\n",
    "y1 = df1.iloc[:, 1]\n",
    "\n",
    "\n",
    "df2 = pd.read_csv('summary.EKTOT',delim_whitespace=True, header=None)\n",
    "x = df2.iloc[:, 0]\n",
    "y2 = df2.iloc[:, 1]\n",
    "\n",
    "\n",
    "y3 = df1.iloc[:, 1] + df2.iloc[:, 1]\n",
    "\n",
    "y1"
   ]
  },
  {
   "cell_type": "code",
   "execution_count": 30,
   "metadata": {
    "scrolled": true
   },
   "outputs": [
    {
     "data": {
      "text/plain": [
       "0       696.0402\n",
       "1       372.8081\n",
       "2       407.1500\n",
       "3       456.5830\n",
       "4       498.4742\n",
       "5       515.9822\n",
       "6       524.5106\n",
       "7       526.0041\n",
       "8       520.2033\n",
       "9       530.1929\n",
       "10      555.9545\n",
       "11      575.4842\n",
       "12      594.0398\n",
       "13      567.7251\n",
       "14      594.1119\n",
       "15      599.6015\n",
       "16      595.4372\n",
       "17      608.2995\n",
       "18      620.6407\n",
       "19      585.3378\n",
       "20      638.5816\n",
       "21      640.9462\n",
       "22      635.8161\n",
       "23      633.3571\n",
       "24      651.3881\n",
       "25      656.0667\n",
       "26      632.4501\n",
       "27      670.8813\n",
       "28      649.4142\n",
       "29      632.7300\n",
       "          ...   \n",
       "971     686.9507\n",
       "972     663.6091\n",
       "973     668.5193\n",
       "974     700.4925\n",
       "975     685.3616\n",
       "976     698.2632\n",
       "977     720.2175\n",
       "978     677.4042\n",
       "979     684.7856\n",
       "980     690.1889\n",
       "981     709.2825\n",
       "982     700.3064\n",
       "983     676.7671\n",
       "984     670.4800\n",
       "985     687.7284\n",
       "986     699.0285\n",
       "987     717.1716\n",
       "988     694.3310\n",
       "989     694.3837\n",
       "990     691.6724\n",
       "991     697.2597\n",
       "992     689.5860\n",
       "993     708.5990\n",
       "994     713.3238\n",
       "995     698.6436\n",
       "996     685.6582\n",
       "997     692.6284\n",
       "998     684.3315\n",
       "999     694.1575\n",
       "1000    679.3138\n",
       "Name: 1, Length: 1001, dtype: float64"
      ]
     },
     "execution_count": 30,
     "metadata": {},
     "output_type": "execute_result"
    }
   ],
   "source": [
    "y2"
   ]
  },
  {
   "cell_type": "code",
   "execution_count": 31,
   "metadata": {
    "scrolled": true
   },
   "outputs": [
    {
     "data": {
      "text/plain": [
       "0      -4633.9339\n",
       "1      -4561.2631\n",
       "2      -4499.1117\n",
       "3      -4439.1580\n",
       "4      -4391.1964\n",
       "5      -4346.2706\n",
       "6      -4322.0236\n",
       "7      -4310.2679\n",
       "8      -4290.8079\n",
       "9      -4287.0092\n",
       "10     -4268.9372\n",
       "11     -4226.9782\n",
       "12     -4204.7101\n",
       "13     -4197.3935\n",
       "14     -4191.8528\n",
       "15     -4184.0404\n",
       "16     -4182.0739\n",
       "17     -4159.2030\n",
       "18     -4137.2588\n",
       "19     -4123.5050\n",
       "20     -4106.9206\n",
       "21     -4100.7753\n",
       "22     -4106.9284\n",
       "23     -4093.1461\n",
       "24     -4076.2618\n",
       "25     -4085.4084\n",
       "26     -4049.8172\n",
       "27     -4066.9597\n",
       "28     -4077.2377\n",
       "29     -4063.2758\n",
       "          ...    \n",
       "971    -4007.1387\n",
       "972    -4010.6339\n",
       "973    -4002.2336\n",
       "974    -3999.8278\n",
       "975    -4002.6293\n",
       "976    -3976.9228\n",
       "977    -3977.0215\n",
       "978    -3973.6749\n",
       "979    -3953.2730\n",
       "980    -3942.9343\n",
       "981    -3960.3594\n",
       "982    -3988.1768\n",
       "983    -4011.9285\n",
       "984    -4002.7223\n",
       "985    -3970.7980\n",
       "986    -3976.1295\n",
       "987    -3982.8740\n",
       "988    -3981.8506\n",
       "989    -3986.1125\n",
       "990    -3985.1689\n",
       "991    -3982.3217\n",
       "992    -3977.6513\n",
       "993    -3982.0018\n",
       "994    -3987.3469\n",
       "995    -3985.6310\n",
       "996    -4001.0390\n",
       "997    -3985.5032\n",
       "998    -3992.7820\n",
       "999    -4008.1756\n",
       "1000   -4007.2172\n",
       "Name: 1, Length: 1001, dtype: float64"
      ]
     },
     "execution_count": 31,
     "metadata": {},
     "output_type": "execute_result"
    }
   ],
   "source": [
    "y3"
   ]
  },
  {
   "cell_type": "code",
   "execution_count": 32,
   "metadata": {},
   "outputs": [
    {
     "data": {
      "text/plain": [
       "-4633.9339"
      ]
     },
     "execution_count": 32,
     "metadata": {},
     "output_type": "execute_result"
    }
   ],
   "source": [
    "-5329.9741 + 696.0402"
   ]
  },
  {
   "cell_type": "code",
   "execution_count": 2,
   "metadata": {},
   "outputs": [
    {
     "name": "stdout",
     "output_type": "stream",
     "text": [
      "/home/pochu/projects/tutorial/tutorial_DNA/Bornmodel12Acut\r\n"
     ]
    }
   ],
   "source": [
    "!cat su"
   ]
  },
  {
   "cell_type": "code",
   "execution_count": null,
   "metadata": {},
   "outputs": [],
   "source": []
  }
 ],
 "metadata": {
  "kernelspec": {
   "display_name": "Python 3",
   "language": "python",
   "name": "python3"
  },
  "language_info": {
   "codemirror_mode": {
    "name": "ipython",
    "version": 3
   },
   "file_extension": ".py",
   "mimetype": "text/x-python",
   "name": "python",
   "nbconvert_exporter": "python",
   "pygments_lexer": "ipython3",
   "version": "3.7.3"
  }
 },
 "nbformat": 4,
 "nbformat_minor": 2
}
